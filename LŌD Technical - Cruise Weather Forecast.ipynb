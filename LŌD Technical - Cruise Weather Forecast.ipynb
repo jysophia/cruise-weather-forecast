{
 "cells": [
  {
   "cell_type": "code",
   "execution_count": 1,
   "id": "c9c0e82e",
   "metadata": {},
   "outputs": [],
   "source": [
    "#%pip install ipyleaflet requests openai"
   ]
  },
  {
   "cell_type": "code",
   "execution_count": 2,
   "id": "acbdb5c8",
   "metadata": {},
   "outputs": [
    {
     "name": "stderr",
     "output_type": "stream",
     "text": [
      "/Users/sophiakim/miniconda3/envs/virtual_env/lib/python3.10/site-packages/torchvision/datapoints/__init__.py:12: UserWarning: The torchvision.datapoints and torchvision.transforms.v2 namespaces are still Beta. While we do not expect major breaking changes, some APIs may still change according to user feedback. Please submit any feedback you may have in this issue: https://github.com/pytorch/vision/issues/6753, and you can also check out https://github.com/pytorch/vision/issues/7319 to learn more about the APIs that we suspect might involve future changes. You can silence this warning by calling torchvision.disable_beta_transforms_warning().\n",
      "  warnings.warn(_BETA_TRANSFORMS_WARNING)\n",
      "/Users/sophiakim/miniconda3/envs/virtual_env/lib/python3.10/site-packages/torchvision/transforms/v2/__init__.py:54: UserWarning: The torchvision.datapoints and torchvision.transforms.v2 namespaces are still Beta. While we do not expect major breaking changes, some APIs may still change according to user feedback. Please submit any feedback you may have in this issue: https://github.com/pytorch/vision/issues/6753, and you can also check out https://github.com/pytorch/vision/issues/7319 to learn more about the APIs that we suspect might involve future changes. You can silence this warning by calling torchvision.disable_beta_transforms_warning().\n",
      "  warnings.warn(_BETA_TRANSFORMS_WARNING)\n"
     ]
    }
   ],
   "source": [
    "import requests\n",
    "import pandas as pd\n",
    "from IPython.display import display\n",
    "from ipyleaflet import Map as LeafletMap, DrawControl\n",
    "from transformers import pipeline"
   ]
  },
  {
   "cell_type": "code",
   "execution_count": 3,
   "id": "fdfbe558",
   "metadata": {},
   "outputs": [],
   "source": [
    "# Once data has been processed, we check if there are any invalid data (i.e. marker is on land)\n",
    "def is_valid_data(data):\n",
    "    hourly_data = data['hourly']\n",
    "\n",
    "    for hourly_entry in hourly_data.items():\n",
    "        values = hourly_entry[1]\n",
    "        if all(value is None for value in values):\n",
    "            return False\n",
    "\n",
    "    return True"
   ]
  },
  {
   "cell_type": "code",
   "execution_count": 4,
   "id": "13491885",
   "metadata": {},
   "outputs": [
    {
     "name": "stderr",
     "output_type": "stream",
     "text": [
      "Hardware accelerator e.g. GPU is available in the environment, but no `device` argument is passed to the `Pipeline` object. Model will be on CPU.\n"
     ]
    }
   ],
   "source": [
    "# Initialize llm with transformers library\n",
    "llm = pipeline(\"summarization\", model=\"t5-large\")"
   ]
  },
  {
   "cell_type": "code",
   "execution_count": 5,
   "id": "1d2b5964",
   "metadata": {},
   "outputs": [],
   "source": [
    "# Clean the data before passing to llm\n",
    "def clean_data(data):\n",
    "    df = pd.DataFrame(data['hourly'])\n",
    "    df.columns = ['time', 'wind_wave_height', 'wind_wave_direction', 'wind_wave_period']\n",
    "    \n",
    "    for col in df.select_dtypes(include=['float64', 'int64']).columns:\n",
    "        df[col] = df[col].astype(str)\n",
    "    \n",
    "    clean_data = df.values.tolist()\n",
    "    return clean_data"
   ]
  },
  {
   "cell_type": "code",
   "execution_count": 8,
   "id": "06f0d320",
   "metadata": {},
   "outputs": [],
   "source": [
    "# Event handler when user pins marker on map\n",
    "def handle_marker(event, action, geo_json):\n",
    "    coordinates = geo_json['geometry']['coordinates']\n",
    "    longitude, latitude = str(coordinates[0]), str(coordinates[1])\n",
    "\n",
    "    # Fetch sea conditions from Open-Meteo API\n",
    "    url = \"https://marine-api.open-meteo.com/v1/marine?latitude=\" + latitude + \"&longitude=\" + longitude + \"&hourly=wind_wave_height,wind_wave_direction,wind_wave_period&timezone=auto&forecast_days=1\"\n",
    "    response = requests.get(url)\n",
    "    if response.status_code == 200:\n",
    "        data = response.json()\n",
    "        if is_valid_data(data):\n",
    "            # print(data)\n",
    "            clean_summary = clean_data(data)\n",
    "            summary = llm(clean_summary, max_length=6, min_length=1, do_sample=False)\n",
    "            print(summary)\n",
    "        else:\n",
    "            print(\"Please try again\")\n",
    "    else:\n",
    "        print(\"Error fetching data from Open-Meteo API: \" + str(response.status_code))"
   ]
  },
  {
   "cell_type": "code",
   "execution_count": 9,
   "id": "88158c1c",
   "metadata": {},
   "outputs": [
    {
     "data": {
      "application/vnd.jupyter.widget-view+json": {
       "model_id": "0586da5dbf97432493c2e00b8b17fb0d",
       "version_major": 2,
       "version_minor": 0
      },
      "text/plain": [
       "Map(center=[20.0, 0.0], controls=(ZoomControl(options=['position', 'zoom_in_text', 'zoom_in_title', 'zoom_out_…"
      ]
     },
     "metadata": {},
     "output_type": "display_data"
    },
    {
     "name": "stdout",
     "output_type": "stream",
     "text": [
      "[[{'summary_text': '2024-11-03'}], [{'summary_text': '2024-11-03'}], [{'summary_text': '2024-11-03'}], [{'summary_text': '2024-11-03'}], [{'summary_text': '2024-11-03'}], [{'summary_text': '2024-11-03'}], [{'summary_text': '2024-11-03'}], [{'summary_text': '2024-11-03'}], [{'summary_text': '2024-11-03'}], [{'summary_text': '2024-11-03'}], [{'summary_text': '2024-11-03'}], [{'summary_text': '2024-11-03'}], [{'summary_text': '2024-11-03'}], [{'summary_text': '2024-11-03'}], [{'summary_text': '2024-11-03'}], [{'summary_text': '2024-11-03'}], [{'summary_text': '2024-11-03'}], [{'summary_text': '2024-11-03'}], [{'summary_text': '2024-11-03'}], [{'summary_text': '2024-11-03'}], [{'summary_text': '2024-11-03'}], [{'summary_text': '2024-11-03'}], [{'summary_text': '2024-11-03'}], [{'summary_text': '2024-11-03'}]]\n"
     ]
    }
   ],
   "source": [
    "map_center = [20.0, 0.0]\n",
    "m = LeafletMap(center=map_center, zoom=2, scroll_wheel_zoom=True)\n",
    "\n",
    "draw_control = DrawControl(\n",
    "    marker={'shapeOptions': {}},\n",
    "    polyline={},\n",
    "    polygon={},\n",
    "    circle={},\n",
    "    circlemarker={},\n",
    ")\n",
    "m.add_control(draw_control)\n",
    "draw_control.on_draw(handle_marker)\n",
    "\n",
    "# Display map\n",
    "display(m)"
   ]
  },
  {
   "cell_type": "code",
   "execution_count": null,
   "id": "13103ae6",
   "metadata": {},
   "outputs": [],
   "source": []
  }
 ],
 "metadata": {
  "kernelspec": {
   "display_name": "virtual_env",
   "language": "python",
   "name": "python3"
  },
  "language_info": {
   "codemirror_mode": {
    "name": "ipython",
    "version": 3
   },
   "file_extension": ".py",
   "mimetype": "text/x-python",
   "name": "python",
   "nbconvert_exporter": "python",
   "pygments_lexer": "ipython3",
   "version": "3.10.12"
  }
 },
 "nbformat": 4,
 "nbformat_minor": 5
}
