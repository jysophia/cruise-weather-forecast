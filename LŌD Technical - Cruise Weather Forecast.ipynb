{
 "cells": [
  {
   "cell_type": "code",
   "execution_count": 1,
   "id": "c9c0e82e",
   "metadata": {},
   "outputs": [],
   "source": [
    "#%pip install ipyleaflet requests transformers torch\n",
    "#%pip install 'accelerate>=0.26.0'\n",
    "# get access token from huggingface??"
   ]
  },
  {
   "cell_type": "code",
   "execution_count": 2,
   "id": "acbdb5c8",
   "metadata": {},
   "outputs": [],
   "source": [
    "import requests\n",
    "import torch\n",
    "import pandas as pd\n",
    "from IPython.display import display\n",
    "from ipyleaflet import Map as LeafletMap, DrawControl\n",
    "from transformers import AutoModelForCausalLM, AutoTokenizer"
   ]
  },
  {
   "cell_type": "code",
   "execution_count": 3,
   "id": "fdfbe558",
   "metadata": {},
   "outputs": [],
   "source": [
    "# Once data has been processed, we check if there are any invalid data (i.e. marker is on land)\n",
    "def is_valid_data(data):\n",
    "    hourly_data = data['hourly']\n",
    "\n",
    "    for hourly_entry in hourly_data.items():\n",
    "        values = hourly_entry[1]\n",
    "        if all(value is None for value in values):\n",
    "            return False\n",
    "\n",
    "    return True"
   ]
  },
  {
   "cell_type": "code",
   "execution_count": 4,
   "id": "13491885",
   "metadata": {},
   "outputs": [
    {
     "name": "stderr",
     "output_type": "stream",
     "text": [
      "/Users/sophiakim/miniconda3/envs/virtual_env/lib/python3.10/site-packages/torchvision/datapoints/__init__.py:12: UserWarning: The torchvision.datapoints and torchvision.transforms.v2 namespaces are still Beta. While we do not expect major breaking changes, some APIs may still change according to user feedback. Please submit any feedback you may have in this issue: https://github.com/pytorch/vision/issues/6753, and you can also check out https://github.com/pytorch/vision/issues/7319 to learn more about the APIs that we suspect might involve future changes. You can silence this warning by calling torchvision.disable_beta_transforms_warning().\n",
      "  warnings.warn(_BETA_TRANSFORMS_WARNING)\n",
      "/Users/sophiakim/miniconda3/envs/virtual_env/lib/python3.10/site-packages/torchvision/transforms/v2/__init__.py:54: UserWarning: The torchvision.datapoints and torchvision.transforms.v2 namespaces are still Beta. While we do not expect major breaking changes, some APIs may still change according to user feedback. Please submit any feedback you may have in this issue: https://github.com/pytorch/vision/issues/6753, and you can also check out https://github.com/pytorch/vision/issues/7319 to learn more about the APIs that we suspect might involve future changes. You can silence this warning by calling torchvision.disable_beta_transforms_warning().\n",
      "  warnings.warn(_BETA_TRANSFORMS_WARNING)\n"
     ]
    }
   ],
   "source": [
    "# Initialize gpu for model to run on\n",
    "device = torch.device(\"cpu\")\n",
    "\n",
    "model_name = \"gpt2\"\n",
    "# Initialize tokenizer\n",
    "tokenizer = AutoTokenizer.from_pretrained(model_name)\n",
    "tokenizer.pad_token = tokenizer.eos_token\n",
    "\n",
    "# Initialize llm\n",
    "model = AutoModelForCausalLM.from_pretrained(model_name).to(device)\n"
   ]
  },
  {
   "cell_type": "code",
   "execution_count": 5,
   "id": "5c84741f",
   "metadata": {},
   "outputs": [],
   "source": [
    "# Clean the data before passing to llm\n",
    "def create_prompt(data):\n",
    "    # hourly_data = data['hourly']\n",
    "    prompt = \"Tell me what the conditions of the wind wave is today based on this data: \\n\\n\"\n",
    "    prompt += str(data)\n",
    "    # prompt += \"Hours: \" + hourly_data['time'][0] + \" to \" + hourly_data['time'][23] + \"\\n\"\n",
    "    # prompt += \"Latitude: \" + str(data['latitude']) + \", Longitude \" + str(data['longitude']) + \"\\n\"\n",
    "    # prompt += \"Hourly Wind Wave Heights: \" + \", \".join([str(height) for height in data['hourly']['wind_wave_height']]) + \" meters.\\n\"\n",
    "    # prompt += \"Hourly Wind Wave Directions: \" + \", \".join([str(direction) for direction in data['hourly']['wind_wave_direction']]) + \" kts.\\n\"\n",
    "    # prompt += \"Hourly Wind Wave Periods: \" + \", \".join([str(period) for period in data['hourly']['wind_wave_period']]) + \" s.\\n\"\n",
    "\n",
    "    return prompt"
   ]
  },
  {
   "cell_type": "code",
   "execution_count": 6,
   "id": "fab96ce3",
   "metadata": {},
   "outputs": [],
   "source": [
    "def retrieve_summary(prompt):\n",
    "    input = tokenizer(prompt, return_tensors=\"pt\", padding=\"longest\", max_length=200).to(device)\n",
    "    # move input to gpu\n",
    "    input = {key: value.to(device) for key, value in input.items()}\n",
    "    # adding pad token ID\n",
    "    model.config.pad_token_id = model.config.eos_token_id\n",
    "    # print(\"Inputs Shape: \" + str(input['input_ids'].shape) + \", Device: \" + str(input['input_ids'].device))\n",
    "    # print(input['input_ids'])\n",
    "    output = model.generate(\n",
    "        input['input_ids'],\n",
    "        attention_mask=input['attention_mask'],\n",
    "        max_new_tokens=150,\n",
    "        num_return_sequences=1,\n",
    "        top_k=50,\n",
    "        top_p=0.95,\n",
    "        no_repeat_ngram_size=2,\n",
    "        repetition_penalty=1.5\n",
    "        )\n",
    "    # print(output)\n",
    "    result = tokenizer.decode(output[0], skip_special_tokens=True)\n",
    "    # result = pipe(prompt, max_new_tokens=200)\n",
    "    return result"
   ]
  },
  {
   "cell_type": "code",
   "execution_count": 7,
   "id": "06f0d320",
   "metadata": {},
   "outputs": [],
   "source": [
    "# Event handler when user pins marker on map\n",
    "def handle_marker(event, action, geo_json):\n",
    "    coordinates = geo_json['geometry']['coordinates']\n",
    "    longitude, latitude = str(coordinates[0]), str(coordinates[1])\n",
    "    summary = \"\"\n",
    "\n",
    "    # Fetch sea conditions from Open-Meteo API\n",
    "    url = \"https://marine-api.open-meteo.com/v1/marine?latitude=\" + latitude + \"&longitude=\" + longitude + \"&hourly=wind_wave_height,wind_wave_direction,wind_wave_period&timezone=auto&forecast_days=1\"\n",
    "    response = requests.get(url)\n",
    "    if response.status_code == 200:\n",
    "        data = response.json()\n",
    "        if is_valid_data(data):\n",
    "            prompt = create_prompt(data)\n",
    "            summary = retrieve_summary(prompt)\n",
    "        else:\n",
    "            print(\"Please try again\")\n",
    "    else:\n",
    "        print(\"Error fetching data from Open-Meteo API: \" + str(response.status_code))\n",
    "    \n",
    "    with open(\"marine_forecast.txt\", \"w\") as file:\n",
    "        file.write(summary)\n",
    "    print(\"Forecast written to marine_forecast.txt\")"
   ]
  },
  {
   "cell_type": "code",
   "execution_count": 8,
   "id": "88158c1c",
   "metadata": {},
   "outputs": [
    {
     "data": {
      "application/vnd.jupyter.widget-view+json": {
       "model_id": "656393e7aef44edc8ac86f87331c7ce6",
       "version_major": 2,
       "version_minor": 0
      },
      "text/plain": [
       "Map(center=[20.0, 0.0], controls=(ZoomControl(options=['position', 'zoom_in_text', 'zoom_in_title', 'zoom_out_…"
      ]
     },
     "metadata": {},
     "output_type": "display_data"
    }
   ],
   "source": [
    "map_center = [20.0, 0.0]\n",
    "m = LeafletMap(center=map_center, zoom=2, scroll_wheel_zoom=True)\n",
    "\n",
    "draw_control = DrawControl(\n",
    "    marker={'shapeOptions': {}},\n",
    "    polyline={},\n",
    "    polygon={},\n",
    "    circle={},\n",
    "    circlemarker={},\n",
    ")\n",
    "m.add_control(draw_control)\n",
    "draw_control.on_draw(handle_marker)\n",
    "\n",
    "# Display map\n",
    "display(m)"
   ]
  },
  {
   "cell_type": "code",
   "execution_count": null,
   "id": "13103ae6",
   "metadata": {},
   "outputs": [],
   "source": []
  },
  {
   "cell_type": "code",
   "execution_count": null,
   "id": "df7a7c92",
   "metadata": {},
   "outputs": [],
   "source": []
  }
 ],
 "metadata": {
  "kernelspec": {
   "display_name": "virtual_env",
   "language": "python",
   "name": "python3"
  },
  "language_info": {
   "codemirror_mode": {
    "name": "ipython",
    "version": 3
   },
   "file_extension": ".py",
   "mimetype": "text/x-python",
   "name": "python",
   "nbconvert_exporter": "python",
   "pygments_lexer": "ipython3",
   "version": "3.10.12"
  }
 },
 "nbformat": 4,
 "nbformat_minor": 5
}
