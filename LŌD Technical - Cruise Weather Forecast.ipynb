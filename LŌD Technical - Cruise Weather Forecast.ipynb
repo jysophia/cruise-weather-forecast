{
 "cells": [
  {
   "cell_type": "code",
   "execution_count": 1,
   "id": "c9c0e82e",
   "metadata": {},
   "outputs": [],
   "source": [
    "#%pip install ipyleaflet requests"
   ]
  },
  {
   "cell_type": "code",
   "execution_count": 2,
   "id": "acbdb5c8",
   "metadata": {},
   "outputs": [
    {
     "name": "stderr",
     "output_type": "stream",
     "text": [
      "/Users/sophiakim/miniconda3/envs/virtual_env/lib/python3.10/site-packages/torchvision/datapoints/__init__.py:12: UserWarning: The torchvision.datapoints and torchvision.transforms.v2 namespaces are still Beta. While we do not expect major breaking changes, some APIs may still change according to user feedback. Please submit any feedback you may have in this issue: https://github.com/pytorch/vision/issues/6753, and you can also check out https://github.com/pytorch/vision/issues/7319 to learn more about the APIs that we suspect might involve future changes. You can silence this warning by calling torchvision.disable_beta_transforms_warning().\n",
      "  warnings.warn(_BETA_TRANSFORMS_WARNING)\n",
      "/Users/sophiakim/miniconda3/envs/virtual_env/lib/python3.10/site-packages/torchvision/transforms/v2/__init__.py:54: UserWarning: The torchvision.datapoints and torchvision.transforms.v2 namespaces are still Beta. While we do not expect major breaking changes, some APIs may still change according to user feedback. Please submit any feedback you may have in this issue: https://github.com/pytorch/vision/issues/6753, and you can also check out https://github.com/pytorch/vision/issues/7319 to learn more about the APIs that we suspect might involve future changes. You can silence this warning by calling torchvision.disable_beta_transforms_warning().\n",
      "  warnings.warn(_BETA_TRANSFORMS_WARNING)\n"
     ]
    }
   ],
   "source": [
    "import requests\n",
    "import os\n",
    "from IPython.display import display\n",
    "from ipyleaflet import Map, DrawControl\n",
    "from transformers import pipeline"
   ]
  },
  {
   "cell_type": "code",
   "execution_count": 3,
   "id": "ba41f348",
   "metadata": {},
   "outputs": [
    {
     "name": "stdout",
     "output_type": "stream",
     "text": [
      "You entered: 5 days\n"
     ]
    }
   ],
   "source": [
    "# Get number of days of the trip\n",
    "user_input = input(\"Enter the number of days forecast that you want to see: \")\n",
    "print(\"You entered: \" + user_input + \" days\")"
   ]
  },
  {
   "cell_type": "code",
   "execution_count": 4,
   "id": "88158c1c",
   "metadata": {},
   "outputs": [
    {
     "data": {
      "application/vnd.jupyter.widget-view+json": {
       "model_id": "6ebb0bdfc53c46069ef53c4454c986f8",
       "version_major": 2,
       "version_minor": 0
      },
      "text/plain": [
       "Map(center=[20.0, 0.0], controls=(ZoomControl(options=['position', 'zoom_in_text', 'zoom_in_title', 'zoom_out_…"
      ]
     },
     "metadata": {},
     "output_type": "display_data"
    },
    {
     "name": "stdout",
     "output_type": "stream",
     "text": [
      "Latitude: 25.482951\n",
      "Longitude: -80.507813\n",
      "Number of days: 5\n"
     ]
    }
   ],
   "source": [
    "number_of_days = str(user_input)\n",
    "\n",
    "map_center = [20.0, 0.0]\n",
    "map = Map(center=map_center, zoom=2, scroll_wheel_zoom=True)\n",
    "\n",
    "def handle_marker(event, action, geo_json):\n",
    "    coordinates = geo_json['geometry']['coordinates']\n",
    "    longitude, latitude = str(coordinates[0]), str(coordinates[1])\n",
    "    print(\"Latitude: \" + latitude)\n",
    "    print(\"Longitude: \" + longitude)\n",
    "    print(\"Number of days: \" + number_of_days)\n",
    "\n",
    "draw_control = DrawControl(\n",
    "    marker={'shapeOptions': {}},\n",
    "    polyline={},\n",
    "    polygon={},\n",
    "    circle={},\n",
    "    circlemarker={},\n",
    ")\n",
    "map.add_control(draw_control)\n",
    "draw_control.on_draw(handle_marker)\n",
    "\n",
    "# Display map\n",
    "display(map)"
   ]
  },
  {
   "cell_type": "code",
   "execution_count": null,
   "id": "572700b9",
   "metadata": {},
   "outputs": [],
   "source": []
  }
 ],
 "metadata": {
  "kernelspec": {
   "display_name": "virtual_env",
   "language": "python",
   "name": "python3"
  },
  "language_info": {
   "codemirror_mode": {
    "name": "ipython",
    "version": 3
   },
   "file_extension": ".py",
   "mimetype": "text/x-python",
   "name": "python",
   "nbconvert_exporter": "python",
   "pygments_lexer": "ipython3",
   "version": "3.10.12"
  }
 },
 "nbformat": 4,
 "nbformat_minor": 5
}
